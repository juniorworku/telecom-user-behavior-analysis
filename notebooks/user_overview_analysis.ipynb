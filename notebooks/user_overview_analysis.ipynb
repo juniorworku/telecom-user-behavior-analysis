{
 "cells": [
  {
   "cell_type": "code",
   "execution_count": 46,
   "metadata": {},
   "outputs": [],
   "source": [
    "import os\n",
    "import sys\n",
    "import pandas as pd\n",
    "from DB_connection.connection import PostgresConnection\n",
    "from src.utils import missing_values_table, convert_bytes_to_megabytes"
   ]
  },
  {
   "cell_type": "code",
   "execution_count": 47,
   "metadata": {},
   "outputs": [],
   "source": [
    "# Add the path to the directory containing your project to the Python path\n",
    "project_path = '/home/ted/Desktop/DEV/telecom-user-behavior-analysis'\n",
    "sys.path.append(project_path)"
   ]
  },
  {
   "cell_type": "code",
   "execution_count": 48,
   "metadata": {},
   "outputs": [],
   "source": [
    "# Change the current working directory to the project directory\n",
    "os.chdir(project_path)"
   ]
  },
  {
   "cell_type": "code",
   "execution_count": 49,
   "metadata": {},
   "outputs": [
    {
     "name": "stdout",
     "output_type": "stream",
     "text": [
      "Connected to PostgreSQL database!\n",
      "Connection closed.\n"
     ]
    }
   ],
   "source": [
    "# Connect to the PostgreSQL database\n",
    "db = PostgresConnection(dbname='postgres_db', user='postgres_username', password='postgres_password')\n",
    "db.connect()\n",
    "\n",
    "# Execute query to retrieve data\n",
    "query = \"SELECT * FROM xdr_data\"\n",
    "result = db.execute_query(query)\n",
    "\n",
    "# Convert result to Pandas DataFrame\n",
    "df = pd.DataFrame(result, columns=[desc[0] for desc in db.cursor.description])\n",
    "print(df.head())  # Display the first few rows of the DataFrame\n",
    "\n",
    "# Close the database connection\n",
    "db.close_connection()"
   ]
  },
  {
   "cell_type": "code",
   "execution_count": 50,
   "metadata": {},
   "outputs": [
    {
     "name": "stdout",
     "output_type": "stream",
     "text": [
      "Your selected dataframe has 55 columns.\n",
      "There are 41 columns that have missing values.\n",
      "Missing Values in df:\n",
      "                                          Missing Values  % of Total Values  \\\n",
      "Nb of sec with 37500B < Vol UL                    130254               86.8   \n",
      "Nb of sec with 6250B < Vol UL < 37500B            111843               74.6   \n",
      "Nb of sec with 125000B < Vol DL                    97538               65.0   \n",
      "TCP UL Retrans. Vol (Bytes)                        96649               64.4   \n",
      "Nb of sec with 31250B < Vol DL < 125000B           93586               62.4   \n",
      "Nb of sec with 1250B < Vol UL < 6250B              92894               61.9   \n",
      "Nb of sec with 6250B < Vol DL < 31250B             88317               58.9   \n",
      "TCP DL Retrans. Vol (Bytes)                        88146               58.8   \n",
      "HTTP UL (Bytes)                                    81810               54.5   \n",
      "HTTP DL (Bytes)                                    81474               54.3   \n",
      "Avg RTT DL (ms)                                    27829               18.6   \n",
      "Avg RTT UL (ms)                                    27812               18.5   \n",
      "Last Location Name                                  1153                0.8   \n",
      "MSISDN/Number                                       1066                0.7   \n",
      "Bearer Id                                            991                0.7   \n",
      "Nb of sec with Vol UL < 1250B                        793                0.5   \n",
      "10 Kbps < UL TP < 50 Kbps (%)                        792                0.5   \n",
      "UL TP > 300 Kbps (%)                                 792                0.5   \n",
      "50 Kbps < UL TP < 300 Kbps (%)                       792                0.5   \n",
      "UL TP < 10 Kbps (%)                                  792                0.5   \n",
      "Nb of sec with Vol DL < 6250B                        755                0.5   \n",
      "250 Kbps < DL TP < 1 Mbps (%)                        754                0.5   \n",
      "50 Kbps < DL TP < 250 Kbps (%)                       754                0.5   \n",
      "DL TP < 50 Kbps (%)                                  754                0.5   \n",
      "DL TP > 1 Mbps (%)                                   754                0.5   \n",
      "Handset Type                                         572                0.4   \n",
      "Handset Manufacturer                                 572                0.4   \n",
      "IMEI                                                 572                0.4   \n",
      "IMSI                                                 570                0.4   \n",
      "Dur. (ms)                                              1                0.0   \n",
      "Total UL (Bytes)                                       1                0.0   \n",
      "Start ms                                               1                0.0   \n",
      "End                                                    1                0.0   \n",
      "End ms                                                 1                0.0   \n",
      "Start                                                  1                0.0   \n",
      "Avg Bearer TP DL (kbps)                                1                0.0   \n",
      "Dur. (ms).1                                            1                0.0   \n",
      "Activity Duration UL (ms)                              1                0.0   \n",
      "Activity Duration DL (ms)                              1                0.0   \n",
      "Avg Bearer TP UL (kbps)                                1                0.0   \n",
      "Total DL (Bytes)                                       1                0.0   \n",
      "\n",
      "                                            Dtype  \n",
      "Nb of sec with 37500B < Vol UL            float64  \n",
      "Nb of sec with 6250B < Vol UL < 37500B    float64  \n",
      "Nb of sec with 125000B < Vol DL           float64  \n",
      "TCP UL Retrans. Vol (Bytes)               float64  \n",
      "Nb of sec with 31250B < Vol DL < 125000B  float64  \n",
      "Nb of sec with 1250B < Vol UL < 6250B     float64  \n",
      "Nb of sec with 6250B < Vol DL < 31250B    float64  \n",
      "TCP DL Retrans. Vol (Bytes)               float64  \n",
      "HTTP UL (Bytes)                           float64  \n",
      "HTTP DL (Bytes)                           float64  \n",
      "Avg RTT DL (ms)                           float64  \n",
      "Avg RTT UL (ms)                           float64  \n",
      "Last Location Name                         object  \n",
      "MSISDN/Number                             float64  \n",
      "Bearer Id                                 float64  \n",
      "Nb of sec with Vol UL < 1250B             float64  \n",
      "10 Kbps < UL TP < 50 Kbps (%)             float64  \n",
      "UL TP > 300 Kbps (%)                      float64  \n",
      "50 Kbps < UL TP < 300 Kbps (%)            float64  \n",
      "UL TP < 10 Kbps (%)                       float64  \n",
      "Nb of sec with Vol DL < 6250B             float64  \n",
      "250 Kbps < DL TP < 1 Mbps (%)             float64  \n",
      "50 Kbps < DL TP < 250 Kbps (%)            float64  \n",
      "DL TP < 50 Kbps (%)                       float64  \n",
      "DL TP > 1 Mbps (%)                        float64  \n",
      "Handset Type                               object  \n",
      "Handset Manufacturer                       object  \n",
      "IMEI                                      float64  \n",
      "IMSI                                      float64  \n",
      "Dur. (ms)                                 float64  \n",
      "Total UL (Bytes)                          float64  \n",
      "Start ms                                  float64  \n",
      "End                                        object  \n",
      "End ms                                    float64  \n",
      "Start                                      object  \n",
      "Avg Bearer TP DL (kbps)                   float64  \n",
      "Dur. (ms).1                               float64  \n",
      "Activity Duration UL (ms)                 float64  \n",
      "Activity Duration DL (ms)                 float64  \n",
      "Avg Bearer TP UL (kbps)                   float64  \n",
      "Total DL (Bytes)                          float64  \n"
     ]
    }
   ],
   "source": [
    "# Perform initial data analysis\n",
    "missing_values_df = missing_values_table(df)\n",
    "print(\"Missing Values in df:\")\n",
    "print(missing_values_df)"
   ]
  },
  {
   "cell_type": "code",
   "execution_count": 51,
   "metadata": {},
   "outputs": [
    {
     "name": "stdout",
     "output_type": "stream",
     "text": [
      "      Bearer Id            Start  Start ms              End  End ms  \\\n",
      "0  1.311448e+19   4/4/2019 12:01     770.0  4/25/2019 14:35   662.0   \n",
      "1  1.311448e+19   4/9/2019 13:04     235.0   4/25/2019 8:15   606.0   \n",
      "2  1.311448e+19   4/9/2019 17:42       1.0  4/25/2019 11:58   652.0   \n",
      "3  1.311448e+19   4/10/2019 0:31     486.0   4/25/2019 7:36   171.0   \n",
      "4  1.311448e+19  4/12/2019 20:10     565.0  4/25/2019 10:40   954.0   \n",
      "\n",
      "   Dur. (ms)          IMSI  MSISDN/Number          IMEI  \\\n",
      "0  1823652.0  2.082014e+14   3.366496e+10  3.552121e+13   \n",
      "1  1365104.0  2.082019e+14   3.368185e+10  3.579401e+13   \n",
      "2  1361762.0  2.082003e+14   3.376063e+10  3.528151e+13   \n",
      "3  1321509.0  2.082014e+14   3.375034e+10  3.535661e+13   \n",
      "4  1089009.0  2.082014e+14   3.369980e+10  3.540701e+13   \n",
      "\n",
      "      Last Location Name  ...  Youtube UL (Bytes)  Netflix DL (Bytes)  \\\n",
      "0  9.16456699548519E+015  ...           2501332.0           8198936.0   \n",
      "1                L77566A  ...          19111729.0          18338413.0   \n",
      "2                D42335A  ...          14699576.0          17587794.0   \n",
      "3                T21824A  ...          15146643.0          13994646.0   \n",
      "4                D88865A  ...          18962873.0          17124581.0   \n",
      "\n",
      "   Netflix UL (Bytes)  Gaming DL (Bytes)  Gaming UL (Bytes)  Other DL (Bytes)  \\\n",
      "0           9656251.0        278082303.0         14344150.0       171744450.0   \n",
      "1          17227132.0        608750074.0          1170709.0       526904238.0   \n",
      "2           6163408.0        229584621.0           395630.0       410692588.0   \n",
      "3           1097942.0        799538153.0         10849722.0       749039933.0   \n",
      "4            415218.0        527707248.0          3529801.0       550709500.0   \n",
      "\n",
      "   Other UL (Bytes)  Total UL (Bytes)  Total DL (Bytes)  HTTP DL (MB)  \n",
      "0         8814393.0        36749741.0       308879636.0           NaN  \n",
      "1        15055145.0        53800391.0       653384965.0           NaN  \n",
      "2         4215763.0        27883638.0       279807335.0           NaN  \n",
      "3        12797283.0        43324218.0       846028530.0           NaN  \n",
      "4        13910322.0        38542814.0       569138589.0           NaN  \n",
      "\n",
      "[5 rows x 56 columns]\n"
     ]
    }
   ],
   "source": [
    "df['HTTP DL (MB)'] = convert_bytes_to_megabytes(df, 'HTTP DL (Bytes)')\n",
    "\n",
    "print(df.head())"
   ]
  },
  {
   "cell_type": "code",
   "execution_count": 53,
   "metadata": {},
   "outputs": [
    {
     "name": "stdout",
     "output_type": "stream",
     "text": [
      "Index(['Bearer Id', 'Start', 'Start ms', 'End', 'End ms', 'Dur. (ms)', 'IMSI',\n",
      "       'MSISDN/Number', 'IMEI', 'Last Location Name', 'Avg RTT DL (ms)',\n",
      "       'Avg RTT UL (ms)', 'Avg Bearer TP DL (kbps)', 'Avg Bearer TP UL (kbps)',\n",
      "       'TCP DL Retrans. Vol (Bytes)', 'TCP UL Retrans. Vol (Bytes)',\n",
      "       'DL TP < 50 Kbps (%)', '50 Kbps < DL TP < 250 Kbps (%)',\n",
      "       '250 Kbps < DL TP < 1 Mbps (%)', 'DL TP > 1 Mbps (%)',\n",
      "       'UL TP < 10 Kbps (%)', '10 Kbps < UL TP < 50 Kbps (%)',\n",
      "       '50 Kbps < UL TP < 300 Kbps (%)', 'UL TP > 300 Kbps (%)',\n",
      "       'HTTP DL (Bytes)', 'HTTP UL (Bytes)', 'Activity Duration DL (ms)',\n",
      "       'Activity Duration UL (ms)', 'Dur. (ms).1', 'Handset Manufacturer',\n",
      "       'Handset Type', 'Nb of sec with 125000B < Vol DL',\n",
      "       'Nb of sec with 1250B < Vol UL < 6250B',\n",
      "       'Nb of sec with 31250B < Vol DL < 125000B',\n",
      "       'Nb of sec with 37500B < Vol UL',\n",
      "       'Nb of sec with 6250B < Vol DL < 31250B',\n",
      "       'Nb of sec with 6250B < Vol UL < 37500B',\n",
      "       'Nb of sec with Vol DL < 6250B', 'Nb of sec with Vol UL < 1250B',\n",
      "       'Social Media DL (Bytes)', 'Social Media UL (Bytes)',\n",
      "       'Google DL (Bytes)', 'Google UL (Bytes)', 'Email DL (Bytes)',\n",
      "       'Email UL (Bytes)', 'Youtube DL (Bytes)', 'Youtube UL (Bytes)',\n",
      "       'Netflix DL (Bytes)', 'Netflix UL (Bytes)', 'Gaming DL (Bytes)',\n",
      "       'Gaming UL (Bytes)', 'Other DL (Bytes)', 'Other UL (Bytes)',\n",
      "       'Total UL (Bytes)', 'Total DL (Bytes)', 'HTTP DL (MB)'],\n",
      "      dtype='object')\n"
     ]
    }
   ],
   "source": [
    "print(df.columns)\n"
   ]
  },
  {
   "cell_type": "code",
   "execution_count": 56,
   "metadata": {},
   "outputs": [
    {
     "name": "stderr",
     "output_type": "stream",
     "text": [
      "/tmp/ipykernel_17086/3971610901.py:21: FutureWarning: SeriesGroupBy.fillna is deprecated and will be removed in a future version. Use obj.ffill() or obj.bfill() for forward or backward filling instead. If you want to fill with a single value, use Series.fillna instead\n",
      "  user_data_volume[app] = user_grouped[app_dl_col].fillna(0) + user_grouped[app_ul_col].fillna(0)\n",
      "/tmp/ipykernel_17086/3971610901.py:21: FutureWarning: SeriesGroupBy.fillna is deprecated and will be removed in a future version. Use obj.ffill() or obj.bfill() for forward or backward filling instead. If you want to fill with a single value, use Series.fillna instead\n",
      "  user_data_volume[app] = user_grouped[app_dl_col].fillna(0) + user_grouped[app_ul_col].fillna(0)\n",
      "Exception ignored in: <bound method IPythonKernel._clean_thread_parent_frames of <ipykernel.ipkernel.IPythonKernel object at 0x7757dea9cf10>>\n",
      "Traceback (most recent call last):\n",
      "  File \"/home/ted/Desktop/DEV/telecom-user-behavior-analysis/venv/lib/python3.11/site-packages/ipykernel/ipkernel.py\", line 775, in _clean_thread_parent_frames\n",
      "    def _clean_thread_parent_frames(\n",
      "\n",
      "KeyboardInterrupt: \n",
      "/tmp/ipykernel_17086/3971610901.py:21: FutureWarning: SeriesGroupBy.fillna is deprecated and will be removed in a future version. Use obj.ffill() or obj.bfill() for forward or backward filling instead. If you want to fill with a single value, use Series.fillna instead\n",
      "  user_data_volume[app] = user_grouped[app_dl_col].fillna(0) + user_grouped[app_ul_col].fillna(0)\n"
     ]
    }
   ],
   "source": [
    "# Group the data by user identifier\n",
    "user_grouped = df.groupby('IMSI')\n",
    "\n",
    "# Calculate the number of xDR sessions for each user\n",
    "user_sessions = user_grouped.size().reset_index(name='NumSessions')\n",
    "\n",
    "# Compute the total session duration for each user\n",
    "user_session_duration = user_grouped['Dur. (ms)'].sum().reset_index(name='TotalSessionDuration')\n",
    "\n",
    "# Sum the download (DL) and upload (UL) data for each user\n",
    "user_data_usage = user_grouped[['Total DL (Bytes)', 'Total UL (Bytes)']].sum().reset_index()\n",
    "\n",
    "# Merge the dataframes to get the total data volume for each user\n",
    "user_data_volume = pd.merge(user_session_duration, user_data_usage, on='IMSI')\n",
    "\n",
    "# Calculate the total data volume (in bytes) during each session for each application\n",
    "applications = ['Social Media', 'Google', 'Email', 'Youtube', 'Netflix', 'Gaming', 'Other']\n",
    "for app in applications:\n",
    "    app_dl_col = f'{app} DL (Bytes)'\n",
    "    app_ul_col = f'{app} UL (Bytes)'\n",
    "    user_data_volume[app] = user_grouped[app_dl_col].fillna(0) + user_grouped[app_ul_col].fillna(0)\n",
    "\n",
    "# Print the aggregated data\n",
    "print(user_data_volume.head())\n",
    "\n",
    "\n"
   ]
  }
 ],
 "metadata": {
  "kernelspec": {
   "display_name": "venv",
   "language": "python",
   "name": "python3"
  },
  "language_info": {
   "codemirror_mode": {
    "name": "ipython",
    "version": 3
   },
   "file_extension": ".py",
   "mimetype": "text/x-python",
   "name": "python",
   "nbconvert_exporter": "python",
   "pygments_lexer": "ipython3",
   "version": "3.11.5"
  }
 },
 "nbformat": 4,
 "nbformat_minor": 2
}
